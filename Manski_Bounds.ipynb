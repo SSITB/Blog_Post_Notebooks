{
 "cells": [
  {
   "cell_type": "code",
   "execution_count": 12,
   "metadata": {},
   "outputs": [],
   "source": [
    "import pandas as pd\n",
    "import warnings\n",
    "warnings.filterwarnings(action='ignore',category=FutureWarning)\n",
    "import numpy as np\n",
    "import seaborn as sns\n",
    "import matplotlib.pyplot as plt\n",
    "import statsmodels.api as sm\n",
    "%matplotlib inline\n",
    "plt.rcParams[\"figure.figsize\"] = (15,10)\n",
    "plt.rcParams[\"xtick.labelsize\"] = 16\n",
    "plt.rcParams[\"ytick.labelsize\"] = 16\n",
    "plt.rcParams[\"axes.labelsize\"] = 20\n",
    "plt.rcParams['legend.fontsize'] = 20"
   ]
  },
  {
   "cell_type": "markdown",
   "metadata": {},
   "source": [
    "## Helpful Links\n",
    "\n",
    "Here are two links that will give you some background on Manski Bounds:\n",
    "\n",
    "- https://mason.gmu.edu/~atabarro/ManskiBoundsSlides1.pdf\n",
    "\n",
    "- https://stats.stackexchange.com/questions/96248/treatment-effect-bounds"
   ]
  },
  {
   "cell_type": "markdown",
   "metadata": {},
   "source": [
    "## Manski Bounds\n",
    "\n",
    "This notebook will go through the steps required to calculate a Manski Bound.\n",
    "\n",
    "The impact of treatments is not a straightforward procedure. Manski Bounds offer a way to get a potential interval for the Average Treatment Effect.\n",
    "\n",
    "We need to following 5 pieces of information in order to calculate Manski Bounds:\n",
    "\n",
    "- $P(Treated)$\n",
    "\n",
    "- $P(Untreated) = 1 - P(Treated)$\n",
    "\n",
    "- $E(Outcome)$\n",
    "\n",
    "- $E(Outcome \\ |\\ Treated)$\n",
    "\n",
    "- $E(Outcome \\ |\\ Untreated)$"
   ]
  },
  {
   "cell_type": "code",
   "execution_count": 23,
   "metadata": {},
   "outputs": [
    {
     "data": {
      "text/html": [
       "<div>\n",
       "<style>\n",
       "    .dataframe thead tr:only-child th {\n",
       "        text-align: right;\n",
       "    }\n",
       "\n",
       "    .dataframe thead th {\n",
       "        text-align: left;\n",
       "    }\n",
       "\n",
       "    .dataframe tbody tr th {\n",
       "        vertical-align: top;\n",
       "    }\n",
       "</style>\n",
       "<table border=\"1\" class=\"dataframe\">\n",
       "  <thead>\n",
       "    <tr style=\"text-align: right;\">\n",
       "      <th></th>\n",
       "      <th>breakfast</th>\n",
       "      <th>malnutrition</th>\n",
       "    </tr>\n",
       "  </thead>\n",
       "  <tbody>\n",
       "    <tr>\n",
       "      <th>0</th>\n",
       "      <td>1.0</td>\n",
       "      <td>1.0</td>\n",
       "    </tr>\n",
       "    <tr>\n",
       "      <th>1</th>\n",
       "      <td>1.0</td>\n",
       "      <td>1.0</td>\n",
       "    </tr>\n",
       "    <tr>\n",
       "      <th>2</th>\n",
       "      <td>1.0</td>\n",
       "      <td>1.0</td>\n",
       "    </tr>\n",
       "    <tr>\n",
       "      <th>3</th>\n",
       "      <td>1.0</td>\n",
       "      <td>1.0</td>\n",
       "    </tr>\n",
       "    <tr>\n",
       "      <th>4</th>\n",
       "      <td>1.0</td>\n",
       "      <td>1.0</td>\n",
       "    </tr>\n",
       "  </tbody>\n",
       "</table>\n",
       "</div>"
      ],
      "text/plain": [
       "   breakfast  malnutrition\n",
       "0        1.0           1.0\n",
       "1        1.0           1.0\n",
       "2        1.0           1.0\n",
       "3        1.0           1.0\n",
       "4        1.0           1.0"
      ]
     },
     "execution_count": 23,
     "metadata": {},
     "output_type": "execute_result"
    }
   ],
   "source": [
    "data = pd.read_stata(\"Malnutrition.dta\")\n",
    "data.head()"
   ]
  },
  {
   "cell_type": "markdown",
   "metadata": {},
   "source": [
    "Above, we have two dummy variables. 1.0 in the breakfast column means that a child goes to a school with a breakfast program. 1.0 in the malnutrition column means that a child suffers from malnutrition.\n",
    "\n",
    "We are going to assume perfect compliance in this example. The breakfast column is our treatment. Let's now calculate the information we need for the construction of a Manski bound."
   ]
  },
  {
   "cell_type": "markdown",
   "metadata": {},
   "source": [
    "$P(Treated) = \\frac{500}{1000} = 0.5$\n",
    "\n",
    "$P(Untreated) = \\frac{500}{1000} = 0.5$"
   ]
  },
  {
   "cell_type": "code",
   "execution_count": 24,
   "metadata": {},
   "outputs": [
    {
     "data": {
      "text/plain": [
       "0.0    500\n",
       "1.0    500\n",
       "Name: breakfast, dtype: int64"
      ]
     },
     "execution_count": 24,
     "metadata": {},
     "output_type": "execute_result"
    }
   ],
   "source": [
    "data['breakfast'].value_counts() # Counts for treated and Untreated."
   ]
  },
  {
   "cell_type": "markdown",
   "metadata": {},
   "source": [
    "Recall, that $E(Outcome) = P(Outcome)$ if the outcome is a binary variable.\n",
    "\n",
    "$E(Outcome) = \\frac{500}{1000} = 0.5$"
   ]
  },
  {
   "cell_type": "code",
   "execution_count": 25,
   "metadata": {},
   "outputs": [
    {
     "data": {
      "text/plain": [
       "0.0    500\n",
       "1.0    500\n",
       "Name: malnutrition, dtype: int64"
      ]
     },
     "execution_count": 25,
     "metadata": {},
     "output_type": "execute_result"
    }
   ],
   "source": [
    "data['malnutrition'].value_counts() # Counts for Outcomes"
   ]
  },
  {
   "cell_type": "markdown",
   "metadata": {},
   "source": [
    "$E(Outcome \\ |\\ Treated) = \\frac{50}{500} = 0.1$\n",
    "\n",
    "$E(Outcome \\ |\\ Untreated) = \\frac{450}{500} = 0.9$"
   ]
  },
  {
   "cell_type": "code",
   "execution_count": 26,
   "metadata": {},
   "outputs": [
    {
     "data": {
      "text/plain": [
       "0.0    450\n",
       "1.0     50\n",
       "Name: malnutrition, dtype: int64"
      ]
     },
     "execution_count": 26,
     "metadata": {},
     "output_type": "execute_result"
    }
   ],
   "source": [
    "data[data['breakfast'] == 1.0][\"malnutrition\"].value_counts()"
   ]
  },
  {
   "cell_type": "code",
   "execution_count": 27,
   "metadata": {},
   "outputs": [
    {
     "data": {
      "text/plain": [
       "1.0    450\n",
       "0.0     50\n",
       "Name: malnutrition, dtype: int64"
      ]
     },
     "execution_count": 27,
     "metadata": {},
     "output_type": "execute_result"
    }
   ],
   "source": [
    "data[data['breakfast'] == 0.0][\"malnutrition\"].value_counts()"
   ]
  },
  {
   "cell_type": "markdown",
   "metadata": {},
   "source": [
    "## Manski Calculation\n",
    "\n",
    "Let's recall the notation:\n",
    "\n",
    "- $P(Treated) = P(D=1)$\n",
    "\n",
    "- $P(Untreated) = P(D=0)$\n",
    "\n",
    "- $E(Outcome) = P(Y)$\n",
    "\n",
    "- $E(Outcome \\ |\\ Treated) = (Y_{1i} \\ |\\ D=1) $\n",
    "\n",
    "- $E(Outcome \\ |\\ Unreated) = (Y_{0i} \\ |\\ D=0) $\n",
    "\n",
    "\n",
    "Furthermore, lets recall the equation for the ATE:\n",
    "\n",
    "$\\Delta ATE = E(Y_{1i}) - E(Y_{0i})$\n",
    "\n",
    "$E(Y_{1i})$ - this is the impact on the treated\n",
    "\n",
    "$E(Y_{0i})$ - this is the impact on the untreated\n",
    "\n",
    "Now, let's get into the calculation required for $E(Y_{1i})$:\n",
    "\n",
    "$E(Y_{1i}) = P(D=1) \\cdot P(Y_{1i}\\ |\\ D = 1) + P(D=0) \\cdot P(Y_{1i}\\ |\\ D = 0)$\n",
    "\n",
    "Notice that the **counterfactual** expression is $P(Y_{1i}\\ |\\ D = 0)$ - this expression represents the expected outcome of those who were given treated, had they not actually been given treatment.\n",
    "\n",
    "That is to say, this expresion is: What would have happened, with regards to the outcome, to those individuals in the treatment group, had they not been given treatment. This is a counterfactual as we will never observe this outcome in reality.\n",
    "\n",
    "This is where the concept of the manski bound comes into play. Manski posits the following:\n",
    "\n",
    "- Assume the worst possible outcome for this counterfactual. This represents the **lower bound** for $E(Y_{1i})$\n",
    "\n",
    "- Assume the best possible outcome for this counterfactual. This represents the **upper bound** for $E(Y_{1i})$\n",
    "\n",
    "Let's plug and chug:\n",
    "\n",
    "$E(Y_{1i}) = (0.5)(0.1) + (0.5)P(Y_{1i}\\ |\\ D = 0)$\n",
    "\n",
    "Now, we know that, $P(Y_{1i}\\ |\\ D = 0)$, is a probability, as such, it must be in $[0,1]$\n",
    "\n",
    "- $E(Y_{1i})^{LB} = (0.5)(0.1) + (0.5)(0) = 0.05$\n",
    "\n",
    "- $E(Y_{1i})^{UB} = (0.5)(0.1) + (0.5)(1) = 0.55$\n",
    "\n",
    "Following identical logic, lets do the same for $E(Y_{0i})$:\n",
    "\n",
    "- $E(Y_{0i})^{LB} = (0.5)(0.9) + (0.5)(0) = 0.45$\n",
    "\n",
    "- $E(Y_{0i})^{UB} = (0.5)(0.9) + (0.5)(1) = 0.95$\n",
    "\n",
    "\n",
    "Recall that the $ATE$ is a comparison between the treated and untreated groups. As such:\n",
    "\n",
    "- $ATE^{UB} = E(Y_{1i})^{UB} - E(Y_{0i})^{LB} = (0.55) - (0.45) = 0.1$\n",
    "\n",
    "- $ATE^{LB} = E(Y_{1i})^{LB} - E(Y_{0i})^{UB} = (0.05) - (0.95) = -0.9$\n",
    "\n",
    "\n",
    "Manski Bound = $(ATE^{LB}, ATE^{UB}) = (-0.9,0.1)$\n",
    "\n",
    "## Interpretation\n",
    "\n",
    "From the above bound, we can say that the program could have a potential impact of reducing the probability of the outcome by 90% or increasing the probability of the outcome by 10% - or by any amount within that range."
   ]
  },
  {
   "cell_type": "code",
   "execution_count": null,
   "metadata": {
    "collapsed": true
   },
   "outputs": [],
   "source": []
  }
 ],
 "metadata": {
  "kernelspec": {
   "display_name": "Python 3",
   "language": "python",
   "name": "python3"
  },
  "language_info": {
   "codemirror_mode": {
    "name": "ipython",
    "version": 3
   },
   "file_extension": ".py",
   "mimetype": "text/x-python",
   "name": "python",
   "nbconvert_exporter": "python",
   "pygments_lexer": "ipython3",
   "version": "3.6.2"
  }
 },
 "nbformat": 4,
 "nbformat_minor": 2
}
